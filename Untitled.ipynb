{
 "cells": [
  {
   "cell_type": "code",
   "execution_count": 9,
   "id": "5592a2c7-2114-4f23-8b3a-2ad581b02118",
   "metadata": {},
   "outputs": [
    {
     "name": "stdout",
     "output_type": "stream",
     "text": [
      "['♠️2', '♣️2', '♥️2', '♦️2', '♠️3', '♣️3', '♥️3', '♦️3', '♠️4', '♣️4', '♥️4', '♦️4', '♠️5', '♣️5', '♥️5', '♦️5', '♠️6', '♣️6', '♥️6', '♦️6', '♠️7', '♣️7', '♥️7', '♦️7', '♠️8', '♣️8', '♥️8', '♦️8', '♠️9', '♣️9', '♥️9', '♦️9', '♠️10', '♣️10', '♥️10', '♦️10', '♠️11', '♣️11', '♥️11', '♦️11']\n"
     ]
    },
    {
     "ename": "NameError",
     "evalue": "name 'self' is not defined",
     "output_type": "error",
     "traceback": [
      "\u001b[0;31m---------------------------------------------------------------------------\u001b[0m",
      "\u001b[0;31mNameError\u001b[0m                                 Traceback (most recent call last)",
      "Cell \u001b[0;32mIn[9], line 37\u001b[0m\n\u001b[1;32m     34\u001b[0m deck\u001b[38;5;241m.\u001b[39mcreate_deck()\n\u001b[1;32m     36\u001b[0m \u001b[38;5;28mprint\u001b[39m(deck\u001b[38;5;241m.\u001b[39mdeck)\n\u001b[0;32m---> 37\u001b[0m \u001b[38;5;28mprint\u001b[39m(\u001b[38;5;28;43mself\u001b[39;49m\u001b[38;5;241m.\u001b[39mdeck)\n",
      "\u001b[0;31mNameError\u001b[0m: name 'self' is not defined"
     ]
    }
   ],
   "source": [
    "class card_deck():\n",
    "    def __init__(self):\n",
    "        pass\n",
    "    def create_deck(self):\n",
    "        self.deck = [(\"♠️\"+str(i), \"♣️\"+str(i), \"♥️\"+str(i), \"♦️\"+ str(i)) for i in range(2, 12) ]\n",
    "        x = []\n",
    "        for i in deck.deck:\n",
    "            x += i\n",
    "        self.deck = x\n",
    "class dealer():\n",
    "    def __init__(self):\n",
    "        self.hand = []\n",
    "        \n",
    "    # deal initial hand to user\n",
    "    def deal(self, deck, user):\n",
    "        deck.deck = random(deck.deck)\n",
    "        deck.deck = deck.deck.pop()\n",
    "\n",
    "    # deal additional card to user when 'hit'\n",
    "\n",
    "    # deal had to dealer with one card showing\n",
    "\n",
    "    # deal card to dealer\n",
    "\n",
    "\n",
    "class user_hand():\n",
    "    def __init__(self):\n",
    "        self.hand = []\n",
    "\n",
    "    #list of cards the dealer has\n",
    "\n",
    "\n",
    "deck = card_deck()\n",
    "deck.create_deck()\n",
    "\n",
    "print(deck.deck)\n",
    "print(self.deck)"
   ]
  },
  {
   "cell_type": "code",
   "execution_count": null,
   "id": "76588def-7116-4619-af27-e2f10dd3f866",
   "metadata": {},
   "outputs": [],
   "source": []
  },
  {
   "cell_type": "code",
   "execution_count": null,
   "id": "e3021471-4bbd-4a9f-b554-31735adeac39",
   "metadata": {},
   "outputs": [],
   "source": []
  },
  {
   "cell_type": "code",
   "execution_count": null,
   "id": "7bd659d6-6e58-4cb3-a764-31c61cb79781",
   "metadata": {},
   "outputs": [],
   "source": []
  }
 ],
 "metadata": {
  "kernelspec": {
   "display_name": "Python 3 (ipykernel)",
   "language": "python",
   "name": "python3"
  },
  "language_info": {
   "codemirror_mode": {
    "name": "ipython",
    "version": 3
   },
   "file_extension": ".py",
   "mimetype": "text/x-python",
   "name": "python",
   "nbconvert_exporter": "python",
   "pygments_lexer": "ipython3",
   "version": "3.10.11"
  }
 },
 "nbformat": 4,
 "nbformat_minor": 5
}
