{
 "cells": [
  {
   "cell_type": "code",
   "execution_count": 21,
   "id": "5592a2c7-2114-4f23-8b3a-2ad581b02118",
   "metadata": {},
   "outputs": [
    {
     "name": "stdin",
     "output_type": "stream",
     "text": [
      "New Game / Rules / Help new game\n"
     ]
    },
    {
     "name": "stdout",
     "output_type": "stream",
     "text": [
      "User's hand:\n",
      "['♦️10', '♦️9']\n",
      "Dealer's hand:\n",
      "♦️6\n"
     ]
    },
    {
     "name": "stdin",
     "output_type": "stream",
     "text": [
      "Would you like to hit/stay?\n",
      "Press H for hit/ Press S for stay h\n"
     ]
    },
    {
     "name": "stdout",
     "output_type": "stream",
     "text": [
      "User's hand:\n",
      "['♦️10', '♦️9', '♥️3']\n",
      "Dealer's hand:\n",
      "♥️3\n",
      "22\n",
      "<bound method user_hand.value of <__main__.user_hand object at 0x122c2dc60>>\n"
     ]
    },
    {
     "name": "stdin",
     "output_type": "stream",
     "text": [
      "Would you like to hit/stay?\n",
      "Press H for hit/ Press S for stay h\n"
     ]
    },
    {
     "name": "stdout",
     "output_type": "stream",
     "text": [
      "User's hand:\n",
      "['♦️10', '♦️9', '♥️3', '♥️8']\n",
      "Dealer's hand:\n",
      "♥️8\n",
      "30\n",
      "<bound method user_hand.value of <__main__.user_hand object at 0x122c2dc60>>\n"
     ]
    },
    {
     "name": "stdin",
     "output_type": "stream",
     "text": [
      "Would you like to hit/stay?\n",
      "Press H for hit/ Press S for stay h\n"
     ]
    },
    {
     "name": "stdout",
     "output_type": "stream",
     "text": [
      "User's hand:\n",
      "['♦️10', '♦️9', '♥️3', '♥️8', '♠️4']\n",
      "Dealer's hand:\n",
      "♠️4\n",
      "34\n",
      "<bound method user_hand.value of <__main__.user_hand object at 0x122c2dc60>>\n"
     ]
    },
    {
     "name": "stdin",
     "output_type": "stream",
     "text": [
      "Would you like to hit/stay?\n",
      "Press H for hit/ Press S for stay h\n"
     ]
    },
    {
     "name": "stdout",
     "output_type": "stream",
     "text": [
      "User's hand:\n",
      "['♦️10', '♦️9', '♥️3', '♥️8', '♠️4', '♦️4']\n",
      "Dealer's hand:\n",
      "♦️4\n",
      "38\n",
      "<bound method user_hand.value of <__main__.user_hand object at 0x122c2dc60>>\n"
     ]
    },
    {
     "name": "stdin",
     "output_type": "stream",
     "text": [
      "Would you like to hit/stay?\n",
      "Press H for hit/ Press S for stay h\n"
     ]
    },
    {
     "name": "stdout",
     "output_type": "stream",
     "text": [
      "User's hand:\n",
      "['♦️10', '♦️9', '♥️3', '♥️8', '♠️4', '♦️4', '♦️3']\n",
      "Dealer's hand:\n",
      "♦️3\n",
      "41\n",
      "<bound method user_hand.value of <__main__.user_hand object at 0x122c2dc60>>\n"
     ]
    },
    {
     "name": "stdin",
     "output_type": "stream",
     "text": [
      "Would you like to hit/stay?\n",
      "Press H for hit/ Press S for stay h\n"
     ]
    },
    {
     "name": "stdout",
     "output_type": "stream",
     "text": [
      "User's hand:\n",
      "['♦️10', '♦️9', '♥️3', '♥️8', '♠️4', '♦️4', '♦️3', '♠️2']\n",
      "Dealer's hand:\n",
      "♠️2\n",
      "43\n",
      "<bound method user_hand.value of <__main__.user_hand object at 0x122c2dc60>>\n"
     ]
    },
    {
     "name": "stdin",
     "output_type": "stream",
     "text": [
      "Would you like to hit/stay?\n",
      "Press H for hit/ Press S for stay h\n"
     ]
    },
    {
     "name": "stdout",
     "output_type": "stream",
     "text": [
      "User's hand:\n",
      "['♦️10', '♦️9', '♥️3', '♥️8', '♠️4', '♦️4', '♦️3', '♠️2', '♥️11']\n",
      "Dealer's hand:\n",
      "♥️11\n",
      "54\n",
      "<bound method user_hand.value of <__main__.user_hand object at 0x122c2dc60>>\n"
     ]
    },
    {
     "name": "stdin",
     "output_type": "stream",
     "text": [
      "Would you like to hit/stay?\n",
      "Press H for hit/ Press S for stay h\n"
     ]
    },
    {
     "name": "stdout",
     "output_type": "stream",
     "text": [
      "User's hand:\n",
      "['♦️10', '♦️9', '♥️3', '♥️8', '♠️4', '♦️4', '♦️3', '♠️2', '♥️11', '♦️8']\n",
      "Dealer's hand:\n",
      "♦️8\n",
      "62\n",
      "<bound method user_hand.value of <__main__.user_hand object at 0x122c2dc60>>\n"
     ]
    },
    {
     "name": "stdin",
     "output_type": "stream",
     "text": [
      "Would you like to hit/stay?\n",
      "Press H for hit/ Press S for stay h\n"
     ]
    },
    {
     "name": "stdout",
     "output_type": "stream",
     "text": [
      "User's hand:\n",
      "['♦️10', '♦️9', '♥️3', '♥️8', '♠️4', '♦️4', '♦️3', '♠️2', '♥️11', '♦️8', '♥️4']\n",
      "Dealer's hand:\n",
      "♥️4\n",
      "66\n",
      "<bound method user_hand.value of <__main__.user_hand object at 0x122c2dc60>>\n"
     ]
    },
    {
     "name": "stdin",
     "output_type": "stream",
     "text": [
      "Would you like to hit/stay?\n",
      "Press H for hit/ Press S for stay h\n"
     ]
    },
    {
     "name": "stdout",
     "output_type": "stream",
     "text": [
      "User's hand:\n",
      "['♦️10', '♦️9', '♥️3', '♥️8', '♠️4', '♦️4', '♦️3', '♠️2', '♥️11', '♦️8', '♥️4', '♣️5']\n",
      "Dealer's hand:\n",
      "♣️5\n",
      "71\n",
      "<bound method user_hand.value of <__main__.user_hand object at 0x122c2dc60>>\n"
     ]
    },
    {
     "name": "stdin",
     "output_type": "stream",
     "text": [
      "Would you like to hit/stay?\n",
      "Press H for hit/ Press S for stay h\n"
     ]
    },
    {
     "name": "stdout",
     "output_type": "stream",
     "text": [
      "User's hand:\n",
      "['♦️10', '♦️9', '♥️3', '♥️8', '♠️4', '♦️4', '♦️3', '♠️2', '♥️11', '♦️8', '♥️4', '♣️5', '♦️7']\n",
      "Dealer's hand:\n",
      "♦️7\n",
      "78\n",
      "<bound method user_hand.value of <__main__.user_hand object at 0x122c2dc60>>\n"
     ]
    },
    {
     "name": "stdin",
     "output_type": "stream",
     "text": [
      "Would you like to hit/stay?\n",
      "Press H for hit/ Press S for stay h\n"
     ]
    },
    {
     "name": "stdout",
     "output_type": "stream",
     "text": [
      "User's hand:\n",
      "['♦️10', '♦️9', '♥️3', '♥️8', '♠️4', '♦️4', '♦️3', '♠️2', '♥️11', '♦️8', '♥️4', '♣️5', '♦️7', '♥️6']\n",
      "Dealer's hand:\n",
      "♥️6\n",
      "84\n",
      "<bound method user_hand.value of <__main__.user_hand object at 0x122c2dc60>>\n"
     ]
    },
    {
     "name": "stdin",
     "output_type": "stream",
     "text": [
      "Would you like to hit/stay?\n",
      "Press H for hit/ Press S for stay h\n"
     ]
    },
    {
     "name": "stdout",
     "output_type": "stream",
     "text": [
      "User's hand:\n",
      "['♦️10', '♦️9', '♥️3', '♥️8', '♠️4', '♦️4', '♦️3', '♠️2', '♥️11', '♦️8', '♥️4', '♣️5', '♦️7', '♥️6', '♠️7']\n",
      "Dealer's hand:\n",
      "♠️7\n",
      "91\n",
      "<bound method user_hand.value of <__main__.user_hand object at 0x122c2dc60>>\n"
     ]
    },
    {
     "name": "stdin",
     "output_type": "stream",
     "text": [
      "Would you like to hit/stay?\n",
      "Press H for hit/ Press S for stay h\n"
     ]
    },
    {
     "name": "stdout",
     "output_type": "stream",
     "text": [
      "User's hand:\n",
      "['♦️10', '♦️9', '♥️3', '♥️8', '♠️4', '♦️4', '♦️3', '♠️2', '♥️11', '♦️8', '♥️4', '♣️5', '♦️7', '♥️6', '♠️7', '♠️5']\n",
      "Dealer's hand:\n",
      "♠️5\n",
      "96\n",
      "<bound method user_hand.value of <__main__.user_hand object at 0x122c2dc60>>\n"
     ]
    },
    {
     "name": "stdin",
     "output_type": "stream",
     "text": [
      "Would you like to hit/stay?\n",
      "Press H for hit/ Press S for stay h\n"
     ]
    },
    {
     "name": "stdout",
     "output_type": "stream",
     "text": [
      "User's hand:\n",
      "['♦️10', '♦️9', '♥️3', '♥️8', '♠️4', '♦️4', '♦️3', '♠️2', '♥️11', '♦️8', '♥️4', '♣️5', '♦️7', '♥️6', '♠️7', '♠️5', '♣️8']\n",
      "Dealer's hand:\n",
      "♣️8\n",
      "104\n",
      "<bound method user_hand.value of <__main__.user_hand object at 0x122c2dc60>>\n"
     ]
    },
    {
     "name": "stdin",
     "output_type": "stream",
     "text": [
      "Would you like to hit/stay?\n",
      "Press H for hit/ Press S for stay h\n"
     ]
    },
    {
     "name": "stdout",
     "output_type": "stream",
     "text": [
      "User's hand:\n",
      "['♦️10', '♦️9', '♥️3', '♥️8', '♠️4', '♦️4', '♦️3', '♠️2', '♥️11', '♦️8', '♥️4', '♣️5', '♦️7', '♥️6', '♠️7', '♠️5', '♣️8', '♥️10']\n",
      "Dealer's hand:\n",
      "♥️10\n",
      "114\n",
      "<bound method user_hand.value of <__main__.user_hand object at 0x122c2dc60>>\n"
     ]
    },
    {
     "name": "stdin",
     "output_type": "stream",
     "text": [
      "Would you like to hit/stay?\n",
      "Press H for hit/ Press S for stay h\n"
     ]
    },
    {
     "name": "stdout",
     "output_type": "stream",
     "text": [
      "User's hand:\n",
      "['♦️10', '♦️9', '♥️3', '♥️8', '♠️4', '♦️4', '♦️3', '♠️2', '♥️11', '♦️8', '♥️4', '♣️5', '♦️7', '♥️6', '♠️7', '♠️5', '♣️8', '♥️10', '♠️6']\n",
      "Dealer's hand:\n",
      "♠️6\n",
      "120\n",
      "<bound method user_hand.value of <__main__.user_hand object at 0x122c2dc60>>\n"
     ]
    },
    {
     "name": "stdin",
     "output_type": "stream",
     "text": [
      "Would you like to hit/stay?\n",
      "Press H for hit/ Press S for stay h\n"
     ]
    },
    {
     "name": "stdout",
     "output_type": "stream",
     "text": [
      "User's hand:\n",
      "['♦️10', '♦️9', '♥️3', '♥️8', '♠️4', '♦️4', '♦️3', '♠️2', '♥️11', '♦️8', '♥️4', '♣️5', '♦️7', '♥️6', '♠️7', '♠️5', '♣️8', '♥️10', '♠️6', '♠️8']\n",
      "Dealer's hand:\n",
      "♠️8\n",
      "128\n",
      "<bound method user_hand.value of <__main__.user_hand object at 0x122c2dc60>>\n"
     ]
    },
    {
     "name": "stdin",
     "output_type": "stream",
     "text": [
      "Would you like to hit/stay?\n",
      "Press H for hit/ Press S for stay h\n"
     ]
    },
    {
     "name": "stdout",
     "output_type": "stream",
     "text": [
      "User's hand:\n",
      "['♦️10', '♦️9', '♥️3', '♥️8', '♠️4', '♦️4', '♦️3', '♠️2', '♥️11', '♦️8', '♥️4', '♣️5', '♦️7', '♥️6', '♠️7', '♠️5', '♣️8', '♥️10', '♠️6', '♠️8', '♥️2']\n",
      "Dealer's hand:\n",
      "♥️2\n",
      "130\n",
      "<bound method user_hand.value of <__main__.user_hand object at 0x122c2dc60>>\n"
     ]
    },
    {
     "name": "stdin",
     "output_type": "stream",
     "text": [
      "Would you like to hit/stay?\n",
      "Press H for hit/ Press S for stay h\n"
     ]
    },
    {
     "name": "stdout",
     "output_type": "stream",
     "text": [
      "User's hand:\n",
      "['♦️10', '♦️9', '♥️3', '♥️8', '♠️4', '♦️4', '♦️3', '♠️2', '♥️11', '♦️8', '♥️4', '♣️5', '♦️7', '♥️6', '♠️7', '♠️5', '♣️8', '♥️10', '♠️6', '♠️8', '♥️2', '♦️2']\n",
      "Dealer's hand:\n",
      "♦️2\n",
      "132\n",
      "<bound method user_hand.value of <__main__.user_hand object at 0x122c2dc60>>\n"
     ]
    },
    {
     "name": "stdin",
     "output_type": "stream",
     "text": [
      "Would you like to hit/stay?\n",
      "Press H for hit/ Press S for stay h\n"
     ]
    },
    {
     "name": "stdout",
     "output_type": "stream",
     "text": [
      "User's hand:\n",
      "['♦️10', '♦️9', '♥️3', '♥️8', '♠️4', '♦️4', '♦️3', '♠️2', '♥️11', '♦️8', '♥️4', '♣️5', '♦️7', '♥️6', '♠️7', '♠️5', '♣️8', '♥️10', '♠️6', '♠️8', '♥️2', '♦️2', '♣️11']\n",
      "Dealer's hand:\n",
      "♣️11\n",
      "143\n",
      "<bound method user_hand.value of <__main__.user_hand object at 0x122c2dc60>>\n"
     ]
    },
    {
     "name": "stdin",
     "output_type": "stream",
     "text": [
      "Would you like to hit/stay?\n",
      "Press H for hit/ Press S for stay h\n"
     ]
    },
    {
     "name": "stdout",
     "output_type": "stream",
     "text": [
      "User's hand:\n",
      "['♦️10', '♦️9', '♥️3', '♥️8', '♠️4', '♦️4', '♦️3', '♠️2', '♥️11', '♦️8', '♥️4', '♣️5', '♦️7', '♥️6', '♠️7', '♠️5', '♣️8', '♥️10', '♠️6', '♠️8', '♥️2', '♦️2', '♣️11', '♥️7']\n",
      "Dealer's hand:\n",
      "♥️7\n",
      "150\n",
      "<bound method user_hand.value of <__main__.user_hand object at 0x122c2dc60>>\n"
     ]
    },
    {
     "name": "stdin",
     "output_type": "stream",
     "text": [
      "Would you like to hit/stay?\n",
      "Press H for hit/ Press S for stay h\n"
     ]
    },
    {
     "name": "stdout",
     "output_type": "stream",
     "text": [
      "User's hand:\n",
      "['♦️10', '♦️9', '♥️3', '♥️8', '♠️4', '♦️4', '♦️3', '♠️2', '♥️11', '♦️8', '♥️4', '♣️5', '♦️7', '♥️6', '♠️7', '♠️5', '♣️8', '♥️10', '♠️6', '♠️8', '♥️2', '♦️2', '♣️11', '♥️7', '♣️7']\n",
      "Dealer's hand:\n",
      "♣️7\n",
      "157\n",
      "<bound method user_hand.value of <__main__.user_hand object at 0x122c2dc60>>\n"
     ]
    },
    {
     "name": "stdin",
     "output_type": "stream",
     "text": [
      "Would you like to hit/stay?\n",
      "Press H for hit/ Press S for stay h\n"
     ]
    },
    {
     "name": "stdout",
     "output_type": "stream",
     "text": [
      "User's hand:\n",
      "['♦️10', '♦️9', '♥️3', '♥️8', '♠️4', '♦️4', '♦️3', '♠️2', '♥️11', '♦️8', '♥️4', '♣️5', '♦️7', '♥️6', '♠️7', '♠️5', '♣️8', '♥️10', '♠️6', '♠️8', '♥️2', '♦️2', '♣️11', '♥️7', '♣️7', '♥️9']\n",
      "Dealer's hand:\n",
      "♥️9\n",
      "166\n",
      "<bound method user_hand.value of <__main__.user_hand object at 0x122c2dc60>>\n"
     ]
    },
    {
     "name": "stdin",
     "output_type": "stream",
     "text": [
      "Would you like to hit/stay?\n",
      "Press H for hit/ Press S for stay s\n"
     ]
    },
    {
     "name": "stdout",
     "output_type": "stream",
     "text": [
      "Dealer's hand:\n",
      "['♦️6', '♠️9']\n"
     ]
    },
    {
     "ename": "KeyboardInterrupt",
     "evalue": "Interrupted by user",
     "output_type": "error",
     "traceback": [
      "\u001b[0;31m---------------------------------------------------------------------------\u001b[0m",
      "\u001b[0;31mKeyboardInterrupt\u001b[0m                         Traceback (most recent call last)",
      "Cell \u001b[0;32mIn[21], line 113\u001b[0m\n\u001b[1;32m    107\u001b[0m             \u001b[38;5;66;03m#if answer.lower() == \"rules\":\u001b[39;00m\n\u001b[1;32m    108\u001b[0m \n\u001b[1;32m    109\u001b[0m             \u001b[38;5;66;03m#if answer.lower() == \"help\":\u001b[39;00m\n\u001b[1;32m    111\u001b[0m game \u001b[38;5;241m=\u001b[39m Game()\n\u001b[0;32m--> 113\u001b[0m \u001b[43mgame\u001b[49m\u001b[38;5;241;43m.\u001b[39;49m\u001b[43mrun\u001b[49m\u001b[43m(\u001b[49m\u001b[43m)\u001b[49m\n\u001b[1;32m    115\u001b[0m \u001b[38;5;66;03m#deck = card_deck()\u001b[39;00m\n\u001b[1;32m    116\u001b[0m \u001b[38;5;66;03m#deck.create_deck()\u001b[39;00m\n\u001b[1;32m    117\u001b[0m \n\u001b[0;32m   (...)\u001b[0m\n\u001b[1;32m    144\u001b[0m \u001b[38;5;66;03m#print(\"----Above is the dealer's hand after the first hit------\")\u001b[39;00m\n\u001b[1;32m    145\u001b[0m \u001b[38;5;66;03m#print(deck.deck)\u001b[39;00m\n",
      "Cell \u001b[0;32mIn[21], line 92\u001b[0m, in \u001b[0;36mGame.run\u001b[0;34m(self)\u001b[0m\n\u001b[1;32m     88\u001b[0m \u001b[38;5;28mprint\u001b[39m(Dealer\u001b[38;5;241m.\u001b[39mdealt_dealer[\u001b[38;5;241m0\u001b[39m])\n\u001b[1;32m     90\u001b[0m \u001b[38;5;28;01mwhile\u001b[39;00m \u001b[38;5;28;01mTrue\u001b[39;00m:\n\u001b[0;32m---> 92\u001b[0m     action \u001b[38;5;241m=\u001b[39m \u001b[38;5;28mstr\u001b[39m(\u001b[38;5;28;43minput\u001b[39;49m\u001b[43m(\u001b[49m\u001b[38;5;124;43m\"\u001b[39;49m\u001b[38;5;124;43mWould you like to hit/stay?\u001b[39;49m\u001b[38;5;130;43;01m\\n\u001b[39;49;00m\u001b[38;5;124;43mPress H for hit/ Press S for stay\u001b[39;49m\u001b[38;5;124;43m\"\u001b[39;49m\u001b[43m)\u001b[49m)\n\u001b[1;32m     93\u001b[0m     \u001b[38;5;28;01mif\u001b[39;00m action\u001b[38;5;241m.\u001b[39mlower() \u001b[38;5;241m==\u001b[39m \u001b[38;5;124m\"\u001b[39m\u001b[38;5;124mh\u001b[39m\u001b[38;5;124m\"\u001b[39m:\n\u001b[1;32m     94\u001b[0m         Dealer\u001b[38;5;241m.\u001b[39mhit(deck\u001b[38;5;241m.\u001b[39mdeck)\n",
      "File \u001b[0;32m/Users/deux/venv/lib/python3.10/site-packages/ipykernel/kernelbase.py:1202\u001b[0m, in \u001b[0;36mKernel.raw_input\u001b[0;34m(self, prompt)\u001b[0m\n\u001b[1;32m   1200\u001b[0m     msg \u001b[38;5;241m=\u001b[39m \u001b[38;5;124m\"\u001b[39m\u001b[38;5;124mraw_input was called, but this frontend does not support input requests.\u001b[39m\u001b[38;5;124m\"\u001b[39m\n\u001b[1;32m   1201\u001b[0m     \u001b[38;5;28;01mraise\u001b[39;00m StdinNotImplementedError(msg)\n\u001b[0;32m-> 1202\u001b[0m \u001b[38;5;28;01mreturn\u001b[39;00m \u001b[38;5;28;43mself\u001b[39;49m\u001b[38;5;241;43m.\u001b[39;49m\u001b[43m_input_request\u001b[49m\u001b[43m(\u001b[49m\n\u001b[1;32m   1203\u001b[0m \u001b[43m    \u001b[49m\u001b[38;5;28;43mstr\u001b[39;49m\u001b[43m(\u001b[49m\u001b[43mprompt\u001b[49m\u001b[43m)\u001b[49m\u001b[43m,\u001b[49m\n\u001b[1;32m   1204\u001b[0m \u001b[43m    \u001b[49m\u001b[38;5;28;43mself\u001b[39;49m\u001b[38;5;241;43m.\u001b[39;49m\u001b[43m_parent_ident\u001b[49m\u001b[43m[\u001b[49m\u001b[38;5;124;43m\"\u001b[39;49m\u001b[38;5;124;43mshell\u001b[39;49m\u001b[38;5;124;43m\"\u001b[39;49m\u001b[43m]\u001b[49m\u001b[43m,\u001b[49m\n\u001b[1;32m   1205\u001b[0m \u001b[43m    \u001b[49m\u001b[38;5;28;43mself\u001b[39;49m\u001b[38;5;241;43m.\u001b[39;49m\u001b[43mget_parent\u001b[49m\u001b[43m(\u001b[49m\u001b[38;5;124;43m\"\u001b[39;49m\u001b[38;5;124;43mshell\u001b[39;49m\u001b[38;5;124;43m\"\u001b[39;49m\u001b[43m)\u001b[49m\u001b[43m,\u001b[49m\n\u001b[1;32m   1206\u001b[0m \u001b[43m    \u001b[49m\u001b[43mpassword\u001b[49m\u001b[38;5;241;43m=\u001b[39;49m\u001b[38;5;28;43;01mFalse\u001b[39;49;00m\u001b[43m,\u001b[49m\n\u001b[1;32m   1207\u001b[0m \u001b[43m\u001b[49m\u001b[43m)\u001b[49m\n",
      "File \u001b[0;32m/Users/deux/venv/lib/python3.10/site-packages/ipykernel/kernelbase.py:1245\u001b[0m, in \u001b[0;36mKernel._input_request\u001b[0;34m(self, prompt, ident, parent, password)\u001b[0m\n\u001b[1;32m   1242\u001b[0m \u001b[38;5;28;01mexcept\u001b[39;00m \u001b[38;5;167;01mKeyboardInterrupt\u001b[39;00m:\n\u001b[1;32m   1243\u001b[0m     \u001b[38;5;66;03m# re-raise KeyboardInterrupt, to truncate traceback\u001b[39;00m\n\u001b[1;32m   1244\u001b[0m     msg \u001b[38;5;241m=\u001b[39m \u001b[38;5;124m\"\u001b[39m\u001b[38;5;124mInterrupted by user\u001b[39m\u001b[38;5;124m\"\u001b[39m\n\u001b[0;32m-> 1245\u001b[0m     \u001b[38;5;28;01mraise\u001b[39;00m \u001b[38;5;167;01mKeyboardInterrupt\u001b[39;00m(msg) \u001b[38;5;28;01mfrom\u001b[39;00m \u001b[38;5;28;01mNone\u001b[39;00m\n\u001b[1;32m   1246\u001b[0m \u001b[38;5;28;01mexcept\u001b[39;00m \u001b[38;5;167;01mException\u001b[39;00m:\n\u001b[1;32m   1247\u001b[0m     \u001b[38;5;28mself\u001b[39m\u001b[38;5;241m.\u001b[39mlog\u001b[38;5;241m.\u001b[39mwarning(\u001b[38;5;124m\"\u001b[39m\u001b[38;5;124mInvalid Message:\u001b[39m\u001b[38;5;124m\"\u001b[39m, exc_info\u001b[38;5;241m=\u001b[39m\u001b[38;5;28;01mTrue\u001b[39;00m)\n",
      "\u001b[0;31mKeyboardInterrupt\u001b[0m: Interrupted by user"
     ]
    }
   ],
   "source": [
    "\n",
    "\n",
    "import random\n",
    "from IPython.display import clear_output\n",
    "import re\n",
    "\n",
    "class card_deck():\n",
    "    def __init__(self):\n",
    "        return\n",
    "    def create_deck(self):\n",
    "        self.deck = [(\"♠️\"+str(i), \"♣️\"+str(i), \"♥️\"+str(i), \"♦️\"+ str(i)) for i in range(2, 12) ]\n",
    "        x = []\n",
    "        for i in self.deck:\n",
    "            x += i\n",
    "        self.deck = x\n",
    "\n",
    "\n",
    "class dealer():\n",
    "    def __init__(self):\n",
    "        self.hand = []\n",
    "        \n",
    "    # deal initial hand to user\n",
    "    def deal(self, deck):\n",
    "        \n",
    "        #self.dealt_user = deck.pop(random.randint(0, (len(deck) -1)))\n",
    "        self.dealt_user = [deck.pop(random.randint(0, (len(deck) -1))) for i in range(0,2)]\n",
    "        self.dealt_dealer = [deck.pop(random.randint(0, (len(deck) -1))) for i in range(0,2)]\n",
    "    \n",
    "\n",
    "    # deal 'hit' card to user\n",
    "    def hit(self, deck):\n",
    "        \n",
    "        self.dealt_user = deck.pop(random.randint(0, (len(deck) -1)))\n",
    "\n",
    "    \n",
    "\n",
    "    # deal 'hit' card to dealer\n",
    "    def hit_dealer(self, deck):\n",
    "        self.dealt_dealer.append(deck.pop(random.randint(0, (len(deck) -1))))\n",
    "\n",
    "\n",
    "class user_hand():\n",
    "    def __init__(self):\n",
    "        self.hand = []\n",
    "\n",
    "    #list of cards the dealer has\n",
    "    def update_user_hand(self, cards):\n",
    "        if isinstance(cards, list):\n",
    "            self.hand += cards\n",
    "        else: \n",
    "            self.hand.append(cards)\n",
    "    \n",
    "    def value(self):\n",
    "\n",
    "        value = 0\n",
    "        for card in self.hand: #iterate through hand\n",
    "            pattern = re.compile('[0-9]+') #compile search group for numbers\n",
    "            found = pattern.findall(card) # return all matches of number or multiple numbers\n",
    "            #print(found)\n",
    "            for f in found:\n",
    "                #print(f)\n",
    "                f = int(f)\n",
    "                value += f\n",
    "        self.hand_value = value\n",
    "        print(self.hand_value)\n",
    "        \n",
    "            \n",
    "\n",
    "class Game():\n",
    "    def __init__(self):\n",
    "        pass\n",
    "\n",
    "    def run(self):\n",
    "        while True:\n",
    "            answer =  str(input(\"New Game / Rules / Help\"))\n",
    "            if answer.lower() == \"new game\":\n",
    "                \n",
    "                deck = card_deck() #create deck object for a new game\n",
    "                deck.create_deck() #create a new deck for game\n",
    "\n",
    "                user = user_hand() #create user's hand object\n",
    "                \n",
    "                Dealer = dealer() #create the dealer object\n",
    "                Dealer.deal(deck.deck) #dealer deals cards to user then dealer\n",
    "                user.update_user_hand(Dealer.dealt_user)\n",
    "                print(\"User's hand:\")\n",
    "                print(user.hand)\n",
    "\n",
    "                print(\"Dealer's hand:\")\n",
    "                print(Dealer.dealt_dealer[0])\n",
    "\n",
    "                while True:\n",
    "                \n",
    "                    action = str(input(\"Would you like to hit/stay?\\nPress H for hit/ Press S for stay\"))\n",
    "                    if action.lower() == \"h\":\n",
    "                        Dealer.hit(deck.deck)\n",
    "                        user.update_user_hand(Dealer.dealt_user)\n",
    "                        print(\"User's hand:\")\n",
    "                        print(user.hand)\n",
    "                        print(\"Dealer's hand:\")\n",
    "                        print(Dealer.dealt_user)\n",
    "                        user.value()\n",
    "                        print(user.value)\n",
    "\n",
    "                    if action.lower() == \"s\":\n",
    "                        print(\"Dealer's hand:\")\n",
    "                        print(Dealer.dealt_dealer)\n",
    "\n",
    "            #if answer.lower() == \"rules\":\n",
    "\n",
    "            #if answer.lower() == \"help\":\n",
    "\n",
    "game = Game()\n",
    "\n",
    "game.run()\n",
    "                \n",
    "#deck = card_deck()\n",
    "#deck.create_deck()\n",
    "\n",
    "#user = user_hand()\n",
    "\n",
    "\n",
    "#dealer = dealer()\n",
    "#dealer.deal(deck.deck)\n",
    "#user.update_user_hand(dealer.dealt_user)\n",
    "#print(user.hand)\n",
    "#print(\"----Above is the initial hand dealt to user------\")\n",
    "\n",
    "#print(deck.deck)\n",
    "\n",
    "#print(dealer.dealt_user)\n",
    "#print(\"----Above is the initial hand dealt to user------\")\n",
    "\n",
    "\n",
    "#print(dealer.dealt_dealer)\n",
    "#print(\"----Above is the initial hand dealt to the dealer------\")\n",
    "#print(deck.deck)\n",
    "#dealer.hit(deck.deck)\n",
    "#print(dealer.dealt_user)\n",
    "#user.update_user_hand(dealer.dealt_user)\n",
    "#print(user.hand)\n",
    "#print(dealer.dealt_user)\n",
    "#print(\"----Above is the user's hand after the first hit------\")\n",
    "#dealer.hit_dealer(deck.deck)\n",
    "#print(dealer.dealt_dealer)\n",
    "#print(\"----Above is the dealer's hand after the first hit------\")\n",
    "#print(deck.deck)"
   ]
  },
  {
   "cell_type": "code",
   "execution_count": null,
   "id": "76588def-7116-4619-af27-e2f10dd3f866",
   "metadata": {},
   "outputs": [],
   "source": []
  },
  {
   "cell_type": "code",
   "execution_count": null,
   "id": "e3021471-4bbd-4a9f-b554-31735adeac39",
   "metadata": {},
   "outputs": [],
   "source": []
  },
  {
   "cell_type": "code",
   "execution_count": null,
   "id": "7bd659d6-6e58-4cb3-a764-31c61cb79781",
   "metadata": {},
   "outputs": [],
   "source": []
  },
  {
   "cell_type": "code",
   "execution_count": null,
   "id": "ec50efab-689e-4a00-a010-a2b85271f93d",
   "metadata": {},
   "outputs": [],
   "source": []
  }
 ],
 "metadata": {
  "kernelspec": {
   "display_name": "Python 3 (ipykernel)",
   "language": "python",
   "name": "python3"
  },
  "language_info": {
   "codemirror_mode": {
    "name": "ipython",
    "version": 3
   },
   "file_extension": ".py",
   "mimetype": "text/x-python",
   "name": "python",
   "nbconvert_exporter": "python",
   "pygments_lexer": "ipython3",
   "version": "3.10.11"
  }
 },
 "nbformat": 4,
 "nbformat_minor": 5
}
