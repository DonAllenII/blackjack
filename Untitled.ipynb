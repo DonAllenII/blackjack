{
 "cells": [
  {
   "cell_type": "code",
   "execution_count": 37,
   "id": "5592a2c7-2114-4f23-8b3a-2ad581b02118",
   "metadata": {},
   "outputs": [
    {
     "name": "stdout",
     "output_type": "stream",
     "text": [
      "['♠️2', '♣️2', '♥️2', '♦️2', '♠️3', '♣️3', '♥️3', '♦️3', '♠️4', '♥️4', '♦️4', '♠️5', '♣️5', '♥️5', '♦️5', '♠️6', '♣️6', '♥️6', '♦️6', '♠️7', '♥️7', '♠️8', '♣️8', '♥️8', '♦️8', '♠️9', '♣️9', '♥️9', '♠️10', '♣️10', '♥️10', '♦️10', '♠️11', '♣️11', '♥️11', '♦️11']\n",
      "['♣️7', '♦️9']\n",
      "['♣️4', '♦️7']\n",
      "['♠️2', '♣️2', '♥️2', '♦️2', '♠️3', '♣️3', '♥️3', '♦️3', '♠️4', '♥️4', '♦️4', '♠️5', '♣️5', '♥️5', '♦️5', '♠️6', '♣️6', '♥️6', '♦️6', '♠️7', '♥️7', '♠️8', '♣️8', '♥️8', '♦️8', '♠️9', '♣️9', '♥️9', '♠️10', '♣️10', '♥️10', '♦️10', '♠️11', '♣️11', '♥️11', '♦️11']\n",
      "['♣️7', '♦️9', '♦️2']\n",
      "['♣️4', '♦️7', '♠️4']\n",
      "['♠️2', '♣️2', '♥️2', '♠️3', '♣️3', '♥️3', '♦️3', '♥️4', '♦️4', '♠️5', '♣️5', '♥️5', '♦️5', '♠️6', '♣️6', '♥️6', '♦️6', '♠️7', '♥️7', '♠️8', '♣️8', '♥️8', '♦️8', '♠️9', '♣️9', '♥️9', '♠️10', '♣️10', '♥️10', '♦️10', '♠️11', '♣️11', '♥️11', '♦️11']\n"
     ]
    }
   ],
   "source": [
    "import random\n",
    "\n",
    "class card_deck():\n",
    "    def __init__(self):\n",
    "        pass\n",
    "    def create_deck(self):\n",
    "        self.deck = [(\"♠️\"+str(i), \"♣️\"+str(i), \"♥️\"+str(i), \"♦️\"+ str(i)) for i in range(2, 12) ]\n",
    "        x = []\n",
    "        for i in self.deck:\n",
    "            x += i\n",
    "        self.deck = x\n",
    "\n",
    "\n",
    "class dealer():\n",
    "    def __init__(self):\n",
    "        self.hand = []\n",
    "        \n",
    "    # deal initial hand to user\n",
    "    def deal(self, deck):\n",
    "        \n",
    "        #self.dealt_user = deck.pop(random.randint(0, (len(deck) -1)))\n",
    "        self.dealt_user = [deck.pop(random.randint(0, (len(deck) -1))) for i in range(0,2)]\n",
    "        self.dealt_dealer = [deck.pop(random.randint(0, (len(deck) -1))) for i in range(0,2)]\n",
    "    \n",
    "\n",
    "    # deal additional card to user when 'hit'\n",
    "    def hit(self, deck):\n",
    "        self.dealt_user.append(deck.pop(random.randint(0, (len(deck) -1))))\n",
    "\n",
    "    # deal had to dealer with one card showing\n",
    "    \n",
    "\n",
    "    # deal card to dealer\n",
    "    def hit_dealer(self, deck):\n",
    "        self.dealt_dealer.append(deck.pop(random.randint(0, (len(deck) -1))))\n",
    "\n",
    "\n",
    "class user_hand():\n",
    "    def __init__(self):\n",
    "        self.hand = []\n",
    "\n",
    "    #list of cards the dealer has\n",
    "\n",
    "\n",
    "deck = card_deck()\n",
    "deck.create_deck()\n",
    "\n",
    "dealer = dealer()\n",
    "dealer.deal(deck.deck)\n",
    "\n",
    "\n",
    "print(deck.deck)\n",
    "\n",
    "print(dealer.dealt_user)\n",
    "print(dealer.dealt_dealer)\n",
    "print(deck.deck)\n",
    "dealer.hit(deck.deck)\n",
    "print(dealer.dealt_user)\n",
    "dealer.hit_dealer(deck.deck)\n",
    "print(dealer.dealt_dealer)\n",
    "print(deck.deck)"
   ]
  },
  {
   "cell_type": "code",
   "execution_count": null,
   "id": "76588def-7116-4619-af27-e2f10dd3f866",
   "metadata": {},
   "outputs": [],
   "source": []
  },
  {
   "cell_type": "code",
   "execution_count": null,
   "id": "e3021471-4bbd-4a9f-b554-31735adeac39",
   "metadata": {},
   "outputs": [],
   "source": []
  },
  {
   "cell_type": "code",
   "execution_count": null,
   "id": "7bd659d6-6e58-4cb3-a764-31c61cb79781",
   "metadata": {},
   "outputs": [],
   "source": []
  }
 ],
 "metadata": {
  "kernelspec": {
   "display_name": "Python 3 (ipykernel)",
   "language": "python",
   "name": "python3"
  },
  "language_info": {
   "codemirror_mode": {
    "name": "ipython",
    "version": 3
   },
   "file_extension": ".py",
   "mimetype": "text/x-python",
   "name": "python",
   "nbconvert_exporter": "python",
   "pygments_lexer": "ipython3",
   "version": "3.10.11"
  }
 },
 "nbformat": 4,
 "nbformat_minor": 5
}
