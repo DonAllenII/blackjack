{
 "cells": [
  {
   "cell_type": "code",
   "execution_count": 11,
   "id": "5592a2c7-2114-4f23-8b3a-2ad581b02118",
   "metadata": {},
   "outputs": [
    {
     "ename": "SyntaxError",
     "evalue": "invalid syntax (4030870661.py, line 20)",
     "output_type": "error",
     "traceback": [
      "\u001b[0;36m  Cell \u001b[0;32mIn[11], line 20\u001b[0;36m\u001b[0m\n\u001b[0;31m    self.dealt_user = deck.pop(random(.randint(0, (len(deck) -1))\u001b[0m\n\u001b[0m                                      ^\u001b[0m\n\u001b[0;31mSyntaxError\u001b[0m\u001b[0;31m:\u001b[0m invalid syntax\n"
     ]
    }
   ],
   "source": [
    "import random\n",
    "\n",
    "class card_deck():\n",
    "    def __init__(self):\n",
    "        pass\n",
    "    def create_deck(self):\n",
    "        self.deck = [(\"♠️\"+str(i), \"♣️\"+str(i), \"♥️\"+str(i), \"♦️\"+ str(i)) for i in range(2, 12) ]\n",
    "        x = []\n",
    "        for i in self.deck:\n",
    "            x += i\n",
    "        self.deck = x\n",
    "\n",
    "\n",
    "class dealer():\n",
    "    def __init__(self):\n",
    "        self.hand = []\n",
    "        \n",
    "    # deal initial hand to user\n",
    "    def deal(self, deck):\n",
    "        self.dealt_user = deck.pop(random.randint(0, (len(deck) -1))\n",
    "        \n",
    "\n",
    "    # deal additional card to user when 'hit'\n",
    "\n",
    "    # deal had to dealer with one card showing\n",
    "\n",
    "    # deal card to dealer\n",
    "\n",
    "\n",
    "class user_hand():\n",
    "    def __init__(self):\n",
    "        self.hand = []\n",
    "\n",
    "    #list of cards the dealer has\n",
    "\n",
    "\n",
    "deck = card_deck()\n",
    "deck.create_deck()\n",
    "\n",
    "dealer = dealer()\n",
    "dealer.deal()\n",
    "\n",
    "\n",
    "print(deck.deck)\n",
    "\n",
    "print(self.dealt_user)"
   ]
  },
  {
   "cell_type": "code",
   "execution_count": null,
   "id": "76588def-7116-4619-af27-e2f10dd3f866",
   "metadata": {},
   "outputs": [],
   "source": []
  },
  {
   "cell_type": "code",
   "execution_count": null,
   "id": "e3021471-4bbd-4a9f-b554-31735adeac39",
   "metadata": {},
   "outputs": [],
   "source": []
  },
  {
   "cell_type": "code",
   "execution_count": null,
   "id": "7bd659d6-6e58-4cb3-a764-31c61cb79781",
   "metadata": {},
   "outputs": [],
   "source": []
  }
 ],
 "metadata": {
  "kernelspec": {
   "display_name": "Python 3 (ipykernel)",
   "language": "python",
   "name": "python3"
  },
  "language_info": {
   "codemirror_mode": {
    "name": "ipython",
    "version": 3
   },
   "file_extension": ".py",
   "mimetype": "text/x-python",
   "name": "python",
   "nbconvert_exporter": "python",
   "pygments_lexer": "ipython3",
   "version": "3.10.11"
  }
 },
 "nbformat": 4,
 "nbformat_minor": 5
}
